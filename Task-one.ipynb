{
 "cells": [
  {
   "cell_type": "code",
   "execution_count": 1,
   "id": "c9175a17",
   "metadata": {},
   "outputs": [],
   "source": [
    "x=5\n",
    "y=5.5\n",
    "f=6+5j\n",
    "z='hello world'\n",
    "a=[3,6,7,'hi',[5,3]]\n",
    "b=(9,4,6,'x',5.6)\n",
    "c={3,5,'hi',7.3}\n",
    "d={'name':'amany','age':36,'faculty':'engineering'}"
   ]
  },
  {
   "cell_type": "code",
   "execution_count": 2,
   "id": "e0372477",
   "metadata": {},
   "outputs": [],
   "source": [
    "nx=x*5\n",
    "ny=y*5\n",
    "nf=f*5"
   ]
  },
  {
   "cell_type": "code",
   "execution_count": 3,
   "id": "64a9deb1",
   "metadata": {},
   "outputs": [
    {
     "data": {
      "text/plain": [
       "25"
      ]
     },
     "execution_count": 3,
     "metadata": {},
     "output_type": "execute_result"
    }
   ],
   "source": [
    "nx\n"
   ]
  },
  {
   "cell_type": "code",
   "execution_count": 4,
   "id": "ba74b652",
   "metadata": {},
   "outputs": [
    {
     "data": {
      "text/plain": [
       "27.5"
      ]
     },
     "execution_count": 4,
     "metadata": {},
     "output_type": "execute_result"
    }
   ],
   "source": [
    "ny"
   ]
  },
  {
   "cell_type": "code",
   "execution_count": 5,
   "id": "53db9bf5",
   "metadata": {},
   "outputs": [
    {
     "data": {
      "text/plain": [
       "(30+25j)"
      ]
     },
     "execution_count": 5,
     "metadata": {},
     "output_type": "execute_result"
    }
   ],
   "source": [
    "nf"
   ]
  },
  {
   "cell_type": "code",
   "execution_count": 6,
   "id": "1f8a33ad",
   "metadata": {},
   "outputs": [],
   "source": [
    "y-=x"
   ]
  },
  {
   "cell_type": "code",
   "execution_count": 7,
   "id": "3407e127",
   "metadata": {},
   "outputs": [
    {
     "data": {
      "text/plain": [
       "0.5"
      ]
     },
     "execution_count": 7,
     "metadata": {},
     "output_type": "execute_result"
    }
   ],
   "source": [
    "y"
   ]
  },
  {
   "cell_type": "code",
   "execution_count": 8,
   "id": "f909a00d",
   "metadata": {},
   "outputs": [
    {
     "name": "stdout",
     "output_type": "stream",
     "text": [
      "enter the year in 4 digit format: \n"
     ]
    },
    {
     "ename": "ValueError",
     "evalue": "invalid literal for int() with base 10: ''",
     "output_type": "error",
     "traceback": [
      "\u001b[0;31m---------------------------------------------------------------------------\u001b[0m",
      "\u001b[0;31mValueError\u001b[0m                                Traceback (most recent call last)",
      "Cell \u001b[0;32mIn[8], line 1\u001b[0m\n\u001b[0;32m----> 1\u001b[0m year\u001b[38;5;241m=\u001b[39m\u001b[38;5;28mint\u001b[39m(\u001b[38;5;28minput\u001b[39m(\u001b[38;5;124m'\u001b[39m\u001b[38;5;124menter the year in 4 digit format: \u001b[39m\u001b[38;5;124m'\u001b[39m))\n\u001b[1;32m      2\u001b[0m \u001b[38;5;28;01mif\u001b[39;00m (year \u001b[38;5;241m%\u001b[39m \u001b[38;5;241m4\u001b[39m \u001b[38;5;241m==\u001b[39m \u001b[38;5;241m0\u001b[39m):\n\u001b[1;32m      3\u001b[0m      \u001b[38;5;28mprint\u001b[39m(\u001b[38;5;124m\"\u001b[39m\u001b[38;5;124mIt\u001b[39m\u001b[38;5;124m'\u001b[39m\u001b[38;5;124ms a leap year\u001b[39m\u001b[38;5;124m\"\u001b[39m)\n",
      "\u001b[0;31mValueError\u001b[0m: invalid literal for int() with base 10: ''"
     ]
    }
   ],
   "source": [
    "year=int(input('enter the year in 4 digit format: '))\n",
    "if (year % 4 == 0):\n",
    "     print(\"It's a leap year\")\n",
    "else:\n",
    "     print(\"It's not a leap year\")\n"
   ]
  },
  {
   "cell_type": "code",
   "execution_count": 9,
   "id": "4175cb51",
   "metadata": {},
   "outputs": [],
   "source": [
    "def categorize_elements(mixed_list):\n",
    "    integers = []\n",
    "    floats = []\n",
    "    strings = []\n",
    "    \n",
    "    for element in mixed_list:\n",
    "        try:\n",
    "            if isinstance(element, int):\n",
    "                integers.append(element)\n",
    "            elif isinstance(element, float):\n",
    "                floats.append(element)\n",
    "            elif isinstance(element, str):\n",
    "                strings.append(element)\n",
    "            else:\n",
    "                print(f\"Unexpected type: {type(element)}\")\n",
    "        except Exception as e:\n",
    "            print(f\"Error occurred: {e}\")\n",
    "    \n",
    "    return integers, floats, strings\n",
    "\n"
   ]
  },
  {
   "cell_type": "code",
   "execution_count": 10,
   "id": "737dba80",
   "metadata": {},
   "outputs": [
    {
     "name": "stdout",
     "output_type": "stream",
     "text": [
      "Unexpected type: <class 'NoneType'>\n",
      "Integers: [1, 42, 100]\n",
      "Floats: [3.14, 2.71]\n",
      "Strings: ['hello', 'world', 'python']\n"
     ]
    }
   ],
   "source": [
    "mixed_list = [1, 3.14, 'hello', 42, 'world', 2.71, 100, 'python', None]\n",
    "integers, floats, strings = categorize_elements(mixed_list)\n",
    "print(\"Integers:\", integers)\n",
    "print(\"Floats:\", floats)\n",
    "print(\"Strings:\", strings)"
   ]
  },
  {
   "cell_type": "code",
   "execution_count": 11,
   "id": "b9d41e20",
   "metadata": {},
   "outputs": [
    {
     "name": "stdout",
     "output_type": "stream",
     "text": [
      "         1          \n",
      "        1 1         \n",
      "       1 2 1        \n",
      "      1 3 3 1       \n",
      "     1 4 6 4 1      \n",
      "   1 5 10 10 5 1    \n",
      "  1 6 15 20 15 6 1  \n",
      "1 7 21 35 35 21 7 1 \n",
      "1 8 28 56 70 56 28 8 1\n",
      "1 9 36 84 126 126 84 36 9 1\n"
     ]
    }
   ],
   "source": [
    "\n",
    "levels = 10\n",
    "\n",
    "# Initialize the triangle with an empty list\n",
    "triangle = []\n",
    "\n",
    "# Generate Pascal's Triangle\n",
    "for i in range(levels):\n",
    "    # Create a row with the correct number of elements (i + 1)\n",
    "    row = [1] * (i + 1)\n",
    "    \n",
    "    # Calculate the values of the row based on the values from the previous row\n",
    "    for j in range(1, i):\n",
    "        row[j] = triangle[i - 1][j - 1] + triangle[i - 1][j]\n",
    "    \n",
    "    # Add the row to the triangle\n",
    "    triangle.append(row)\n",
    "\n",
    "# Print Pascal's Triangle\n",
    "for row in triangle:\n",
    "    # Print each row centered relative to the width of the last row\n",
    "    print(' '.join(map(str, row)).center(levels * 2))\n",
    "\n"
   ]
  },
  {
   "cell_type": "code",
   "execution_count": 12,
   "id": "9fddc645",
   "metadata": {},
   "outputs": [
    {
     "name": "stdout",
     "output_type": "stream",
     "text": [
      "Enter the number to calculate its factorial: 5\n",
      "The factorial of 5 is 120.\n"
     ]
    }
   ],
   "source": [
    "num= input(\"Enter the number to calculate its factorial: \")\n",
    "\n",
    "if num.isdigit():\n",
    "    num_new = int(num)\n",
    "    \n",
    "    if num_new < 0:\n",
    "        print(\"Please enter a positive number.\")\n",
    "    else:\n",
    "        factorial = 1\n",
    "        \n",
    "        for i in range(1, num_new + 1):\n",
    "            factorial *= i\n",
    "        \n",
    "        print(f\"The factorial of {num_new} is {factorial}.\")\n",
    "else:\n",
    "    print(\"Please enter number.\")\n",
    "\n"
   ]
  },
  {
   "cell_type": "code",
   "execution_count": 13,
   "id": "b73c270f",
   "metadata": {},
   "outputs": [
    {
     "name": "stdout",
     "output_type": "stream",
     "text": [
      "2\n",
      "7\n",
      "11\n",
      "13\n",
      "17\n",
      "19\n",
      "23\n",
      "29\n",
      "31\n",
      "37\n",
      "41\n",
      "43\n",
      "47\n"
     ]
    }
   ],
   "source": [
    "start = 1\n",
    "end = 50\n",
    "\n",
    "for num in range(start, end + 1):\n",
    "    if num % 3 == 0 or num % 5 == 0:\n",
    "        continue\n",
    "\n",
    "    if num <= 1:\n",
    "        continue  \n",
    "    is_prime = True\n",
    "    for i in range(2, int(num ** 0.5) + 1):\n",
    "        if num % i == 0:\n",
    "            is_prime = False\n",
    "            break\n",
    "    \n",
    "    if is_prime:\n",
    "        print(num)"
   ]
  },
  {
   "cell_type": "markdown",
   "id": "7b69d51b",
   "metadata": {},
   "source": [
    "#task Two"
   ]
  },
  {
   "cell_type": "code",
   "execution_count": 14,
   "id": "0eef50c2",
   "metadata": {},
   "outputs": [],
   "source": [
    "class BankAccount:\n",
    "    def __init__(self, account_number, balance, account_holder_name):\n",
    "        self.account_number = account_number\n",
    "        self.balance = balance\n",
    "        self.account_holder_name = account_holder_name\n",
    "\n",
    "    def deposit(self, amount):\n",
    "        if amount <= 0:\n",
    "            print(\"Deposit amount must be greater than zero.\")\n",
    "            return\n",
    "        self.balance += amount\n",
    "        print(f\"Deposited ${amount}. New balance is ${self.balance}.\")\n",
    "\n",
    "    def withdraw(self, amount):\n",
    "        if amount <= 0:\n",
    "            print(\"Withdrawal amount must be greater than zero.\")\n",
    "            return\n",
    "        if amount > self.balance:\n",
    "            print(\"Insufficient funds for this withdrawal.\")\n",
    "            return\n",
    "        self.balance -= amount\n",
    "        print(f\"Withdrew ${amount}. New balance is ${self.balance}.\")\n",
    "\n",
    "    def check_balance(self):\n",
    "        print(f\"Account Number: {self.account_number}\")\n",
    "        print(f\"Account Holder: {self.account_holder_name}\")\n",
    "        print(f\"Current Balance: ${self.balance}\")\n",
    "\n",
    "\n",
    "\n",
    "\n"
   ]
  },
  {
   "cell_type": "code",
   "execution_count": 15,
   "id": "d0a92374",
   "metadata": {},
   "outputs": [],
   "source": [
    "account = BankAccount(account_number=\"234\", balance=100, account_holder_name=\"Amany Ibrahim\")\n"
   ]
  },
  {
   "cell_type": "code",
   "execution_count": 16,
   "id": "9f07e6c9",
   "metadata": {},
   "outputs": [
    {
     "name": "stdout",
     "output_type": "stream",
     "text": [
      "Account Number: 234\n",
      "Account Holder: Amany Ibrahim\n",
      "Current Balance: $100\n"
     ]
    }
   ],
   "source": [
    "account.check_balance()"
   ]
  },
  {
   "cell_type": "code",
   "execution_count": 17,
   "id": "e0c747f3",
   "metadata": {},
   "outputs": [
    {
     "name": "stdout",
     "output_type": "stream",
     "text": [
      "Deposited $300.0. New balance is $400.0.\n"
     ]
    }
   ],
   "source": [
    "account.deposit(300.0)"
   ]
  },
  {
   "cell_type": "code",
   "execution_count": 18,
   "id": "76508ffc",
   "metadata": {},
   "outputs": [
    {
     "name": "stdout",
     "output_type": "stream",
     "text": [
      "Withdrew $200.0. New balance is $200.0.\n"
     ]
    }
   ],
   "source": [
    "account.withdraw(200.0)"
   ]
  },
  {
   "cell_type": "code",
   "execution_count": 19,
   "id": "ab717393",
   "metadata": {},
   "outputs": [
    {
     "name": "stdout",
     "output_type": "stream",
     "text": [
      "Insufficient funds for this withdrawal.\n"
     ]
    }
   ],
   "source": [
    "account.withdraw(2000.0)"
   ]
  },
  {
   "cell_type": "code",
   "execution_count": 20,
   "id": "9fec294f",
   "metadata": {},
   "outputs": [
    {
     "name": "stdout",
     "output_type": "stream",
     "text": [
      "Deposited $100.0. New balance is $300.0.\n"
     ]
    }
   ],
   "source": [
    "account.deposit(100.0)"
   ]
  },
  {
   "cell_type": "code",
   "execution_count": 21,
   "id": "87226a09",
   "metadata": {},
   "outputs": [
    {
     "name": "stdout",
     "output_type": "stream",
     "text": [
      "Account Number: 234\n",
      "Account Holder: Amany Ibrahim\n",
      "Current Balance: $300.0\n"
     ]
    }
   ],
   "source": [
    "account.check_balance()"
   ]
  },
  {
   "cell_type": "code",
   "execution_count": 22,
   "id": "c11b9763",
   "metadata": {},
   "outputs": [],
   "source": [
    "account1 = BankAccount(account_number=\"555\", balance=7653.0, account_holder_name=\"amany ibrahim\")\n",
    "account2 = BankAccount(account_number=\"000\", balance=7550.0, account_holder_name=\"ali ibrahim\")\n"
   ]
  },
  {
   "cell_type": "code",
   "execution_count": 23,
   "id": "8247dc86",
   "metadata": {},
   "outputs": [
    {
     "name": "stdout",
     "output_type": "stream",
     "text": [
      "\n",
      "Depositing to account1:\n",
      "Deposited $200.0. New balance is $7853.0.\n"
     ]
    }
   ],
   "source": [
    "print(\"\\nDepositing to account1:\")\n",
    "account1.deposit(200.0)"
   ]
  },
  {
   "cell_type": "code",
   "execution_count": 24,
   "id": "f6ea541a",
   "metadata": {},
   "outputs": [
    {
     "name": "stdout",
     "output_type": "stream",
     "text": [
      "\n",
      "Withdrawing from account1:\n",
      "Withdrew $100.0. New balance is $7753.0.\n"
     ]
    }
   ],
   "source": [
    "print(\"\\nWithdrawing from account1:\")\n",
    "account1.withdraw(100.0)"
   ]
  },
  {
   "cell_type": "code",
   "execution_count": 25,
   "id": "22256959",
   "metadata": {},
   "outputs": [
    {
     "name": "stdout",
     "output_type": "stream",
     "text": [
      "\n",
      "Attempting to withdraw more than available balance from account1:\n",
      "Withdrew $2000.0. New balance is $5753.0.\n"
     ]
    }
   ],
   "source": [
    "print(\"\\nAttempting to withdraw more than available balance from account1:\")\n",
    "account1.withdraw(2000.0)\n"
   ]
  },
  {
   "cell_type": "code",
   "execution_count": 26,
   "id": "dfb8af5a",
   "metadata": {},
   "outputs": [
    {
     "name": "stdout",
     "output_type": "stream",
     "text": [
      "\n",
      "Attempting to deposit invalid amount to account1:\n",
      "Deposit amount must be greater than zero.\n"
     ]
    }
   ],
   "source": [
    "print(\"\\nAttempting to deposit invalid amount to account1:\")\n",
    "account1.deposit(-50.0)"
   ]
  },
  {
   "cell_type": "code",
   "execution_count": 27,
   "id": "f120084b",
   "metadata": {},
   "outputs": [
    {
     "name": "stdout",
     "output_type": "stream",
     "text": [
      "\n",
      "Checking balance for account2:\n",
      "Account Number: 000\n",
      "Account Holder: ali ibrahim\n",
      "Current Balance: $7550.0\n"
     ]
    }
   ],
   "source": [
    "print(\"\\nChecking balance for account2:\")\n",
    "account2.check_balance()\n"
   ]
  },
  {
   "cell_type": "code",
   "execution_count": 28,
   "id": "2fcaa4b4",
   "metadata": {},
   "outputs": [
    {
     "name": "stdout",
     "output_type": "stream",
     "text": [
      "\n",
      "Depositing to account2:\n",
      "Deposited $100.0. New balance is $7650.0.\n"
     ]
    }
   ],
   "source": [
    "print(\"\\nDepositing to account2:\")\n",
    "account2.deposit(100.0)\n"
   ]
  },
  {
   "cell_type": "code",
   "execution_count": 29,
   "id": "50309f67",
   "metadata": {},
   "outputs": [
    {
     "name": "stdout",
     "output_type": "stream",
     "text": [
      "\n",
      "Withdrawing from account2:\n",
      "Withdrew $50.0. New balance is $7600.0.\n"
     ]
    }
   ],
   "source": [
    "print(\"\\nWithdrawing from account2:\")\n",
    "account2.withdraw(50.0)\n"
   ]
  },
  {
   "cell_type": "code",
   "execution_count": 30,
   "id": "7dceceb7",
   "metadata": {},
   "outputs": [
    {
     "name": "stdout",
     "output_type": "stream",
     "text": [
      "\n",
      "Attempting to withdraw more than available balance from account2:\n",
      "Withdrew $600.0. New balance is $7000.0.\n"
     ]
    }
   ],
   "source": [
    "print(\"\\nAttempting to withdraw more than available balance from account2:\")\n",
    "account2.withdraw(600.0)"
   ]
  },
  {
   "cell_type": "code",
   "execution_count": 31,
   "id": "71294168",
   "metadata": {},
   "outputs": [
    {
     "name": "stdout",
     "output_type": "stream",
     "text": [
      "\n",
      "Attempting to deposit invalid amount to account2:\n",
      "Deposit amount must be greater than zero.\n"
     ]
    }
   ],
   "source": [
    "print(\"\\nAttempting to deposit invalid amount to account2:\")\n",
    "account2.deposit(0.0)"
   ]
  },
  {
   "cell_type": "code",
   "execution_count": 32,
   "id": "549f1279",
   "metadata": {},
   "outputs": [],
   "source": [
    "\n",
    "\n",
    "class SavingsAccount(BankAccount):\n",
    "    def __init__(self, account_number, balance, account_holder_name, interest_rate):\n",
    "        super().__init__(account_number, balance, account_holder_name)\n",
    "        self.interest_rate = interest_rate  # Interest rate as a percentage\n",
    "\n",
    "    def calculate_interest(self, years):\n",
    "        if years <= 0:\n",
    "            print(\"Number of years must be greater than zero.\")\n",
    "            return\n",
    "        interest = self.balance * (self.interest_rate / 100) * years\n",
    "        print(f\"Interest over {years} year(s) at {self.interest_rate}%: ${interest:.2f}\")\n",
    "        return interest\n",
    "\n"
   ]
  },
  {
   "cell_type": "code",
   "execution_count": 38,
   "id": "5fd4b7c1",
   "metadata": {},
   "outputs": [],
   "source": [
    "savings_account = SavingsAccount(account_number=\"456\", balance=54325.0, account_holder_name=\"Test Name\", interest_rate=3.0)\n"
   ]
  },
  {
   "cell_type": "code",
   "execution_count": 39,
   "id": "854446a7",
   "metadata": {},
   "outputs": [
    {
     "name": "stdout",
     "output_type": "stream",
     "text": [
      "Account Number: 456\n",
      "Account Holder: Test Name\n",
      "Current Balance: $54325.0\n"
     ]
    }
   ],
   "source": [
    "savings_account.check_balance()\n"
   ]
  },
  {
   "cell_type": "code",
   "execution_count": 40,
   "id": "bd7d74f1",
   "metadata": {},
   "outputs": [
    {
     "name": "stdout",
     "output_type": "stream",
     "text": [
      "Deposited $500.0. New balance is $54825.0.\n"
     ]
    }
   ],
   "source": [
    "savings_account.deposit(500.0)\n"
   ]
  },
  {
   "cell_type": "code",
   "execution_count": 41,
   "id": "e34328b9",
   "metadata": {},
   "outputs": [
    {
     "name": "stdout",
     "output_type": "stream",
     "text": [
      "\n",
      "Withdrawing from savings_account:\n",
      "Withdrew $100.0. New balance is $54725.0.\n"
     ]
    }
   ],
   "source": [
    "print(\"\\nWithdrawing from savings_account:\")\n",
    "savings_account.withdraw(100.0)"
   ]
  },
  {
   "cell_type": "code",
   "execution_count": 42,
   "id": "4231ed7e",
   "metadata": {},
   "outputs": [
    {
     "name": "stdout",
     "output_type": "stream",
     "text": [
      "\n",
      "Calculating interest:\n",
      "Interest over 3 year(s) at 3.0%: $4925.25\n"
     ]
    },
    {
     "data": {
      "text/plain": [
       "4925.25"
      ]
     },
     "execution_count": 42,
     "metadata": {},
     "output_type": "execute_result"
    }
   ],
   "source": [
    "print(\"\\nCalculating interest:\")\n",
    "savings_account.calculate_interest(3)"
   ]
  },
  {
   "cell_type": "code",
   "execution_count": 44,
   "id": "d302dffe",
   "metadata": {},
   "outputs": [],
   "source": [
    "class LoanAccount:\n",
    "    def __init__(self, loan_number, loan_amount, loan_holder_name):\n",
    "        self.loan_number = loan_number\n",
    "        self.loan_amount = loan_amount\n",
    "        self.loan_holder_name = loan_holder_name\n",
    "\n",
    "    def calculate_loan_interest(self, interest_rate, years):\n",
    "        if years <= 0:\n",
    "            print(\"Number of years must be greater than zero.\")\n",
    "            return\n",
    "        loan_interest = self.loan_amount * (interest_rate / 100) * years\n",
    "        print(f\"Loan interest over {years} year(s) at {interest_rate}%: ${loan_interest:.2f}\")\n",
    "        return loan_interest\n",
    "\n",
    "    def display_loan_details(self):\n",
    "        print(f\"Loan Number: {self.loan_number}\")\n",
    "        print(f\"Loan Holder: {self.loan_holder_name}\")\n",
    "        print(f\"Loan Amount: ${self.loan_amount}\")\n",
    "class SavingsLoanAccount(SavingsAccount, LoanAccount):\n",
    "    def __init__(self, account_number, balance, account_holder_name, interest_rate, loan_number, loan_amount):\n",
    "        SavingsAccount.__init__(self, account_number, balance, account_holder_name, interest_rate)\n",
    "        LoanAccount.__init__(self, loan_number, loan_amount, account_holder_name)\n",
    "\n",
    "\n",
    "\n",
    "\n",
    "\n",
    "\n"
   ]
  },
  {
   "cell_type": "code",
   "execution_count": 45,
   "id": "8de66d05",
   "metadata": {},
   "outputs": [],
   "source": [
    "savings_loan_account = SavingsLoanAccount(\n",
    "    account_number=\"45736\", \n",
    "    balance=746.0, \n",
    "    account_holder_name=\"name name\", \n",
    "    interest_rate=10.0, \n",
    "    loan_number=\"4443\", \n",
    "    loan_amount=433.0\n",
    ")\n"
   ]
  },
  {
   "cell_type": "code",
   "execution_count": 46,
   "id": "25ac7745",
   "metadata": {},
   "outputs": [
    {
     "name": "stdout",
     "output_type": "stream",
     "text": [
      "\n",
      "Checking balance and loan details for savings_loan_account:\n",
      "Account Number: 45736\n",
      "Account Holder: name name\n",
      "Current Balance: $746.0\n",
      "Loan Number: 4443\n",
      "Loan Holder: name name\n",
      "Loan Amount: $433.0\n"
     ]
    }
   ],
   "source": [
    "print(\"\\nChecking balance and loan details for savings_loan_account:\")\n",
    "savings_loan_account.check_balance()\n",
    "savings_loan_account.display_loan_details()"
   ]
  },
  {
   "cell_type": "code",
   "execution_count": 47,
   "id": "2f57f166",
   "metadata": {},
   "outputs": [
    {
     "name": "stdout",
     "output_type": "stream",
     "text": [
      "\n",
      "Depositing to savings_loan_account:\n",
      "Deposited $500.0. New balance is $1246.0.\n"
     ]
    }
   ],
   "source": [
    "print(\"\\nDepositing to savings_loan_account:\")\n",
    "savings_loan_account.deposit(500.0)"
   ]
  },
  {
   "cell_type": "code",
   "execution_count": 48,
   "id": "3ac69f12",
   "metadata": {},
   "outputs": [
    {
     "name": "stdout",
     "output_type": "stream",
     "text": [
      "\n",
      "Withdrawing from savings_loan_account:\n",
      "Withdrew $200.0. New balance is $1046.0.\n"
     ]
    }
   ],
   "source": [
    "print(\"\\nWithdrawing from savings_loan_account:\")\n",
    "savings_loan_account.withdraw(200.0)"
   ]
  },
  {
   "cell_type": "code",
   "execution_count": 49,
   "id": "4ca75926",
   "metadata": {},
   "outputs": [
    {
     "name": "stdout",
     "output_type": "stream",
     "text": [
      "\n",
      "Calculating interest on savings:\n",
      "Interest over 2 year(s) at 10.0%: $209.20\n"
     ]
    },
    {
     "data": {
      "text/plain": [
       "209.20000000000002"
      ]
     },
     "execution_count": 49,
     "metadata": {},
     "output_type": "execute_result"
    }
   ],
   "source": [
    "print(\"\\nCalculating interest on savings:\")\n",
    "savings_loan_account.calculate_interest(2)"
   ]
  },
  {
   "cell_type": "code",
   "execution_count": 50,
   "id": "8c2d6570",
   "metadata": {},
   "outputs": [
    {
     "name": "stdout",
     "output_type": "stream",
     "text": [
      "\n",
      "Calculating loan interest:\n",
      "Loan interest over 2 year(s) at 6.0%: $51.96\n"
     ]
    },
    {
     "data": {
      "text/plain": [
       "51.96"
      ]
     },
     "execution_count": 50,
     "metadata": {},
     "output_type": "execute_result"
    }
   ],
   "source": [
    "print(\"\\nCalculating loan interest:\")\n",
    "savings_loan_account.calculate_loan_interest(6.0, 2) "
   ]
  },
  {
   "cell_type": "code",
   "execution_count": null,
   "id": "dcb15e9c",
   "metadata": {},
   "outputs": [],
   "source": []
  }
 ],
 "metadata": {
  "kernelspec": {
   "display_name": "Python 3 (ipykernel)",
   "language": "python",
   "name": "python3"
  },
  "language_info": {
   "codemirror_mode": {
    "name": "ipython",
    "version": 3
   },
   "file_extension": ".py",
   "mimetype": "text/x-python",
   "name": "python",
   "nbconvert_exporter": "python",
   "pygments_lexer": "ipython3",
   "version": "3.11.3"
  }
 },
 "nbformat": 4,
 "nbformat_minor": 5
}
